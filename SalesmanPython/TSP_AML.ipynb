{
 "cells": [
  {
   "cell_type": "markdown",
   "metadata": {},
   "source": [
    "# Traveler Salesman Problem\n",
    "\n",
    "Here is a toy example of the TSP with 52 cities.\n",
    "The solution proposed is an elitist genetic algorithm with a swap mutation and a 2-points crossover with 2-individuals turnament. Its performances are not great, a lot of improvements can be done."
   ]
  },
  {
   "cell_type": "code",
   "execution_count": 1,
   "metadata": {
    "collapsed": true
   },
   "outputs": [],
   "source": [
    "# IMPORT LIBRARIES \n",
    "\n",
    "# basics\n",
    "import numpy as np\n",
    "import matplotlib.pyplot as plt\n",
    "import pandas as pd\n",
    "import random as rd"
   ]
  },
  {
   "cell_type": "markdown",
   "metadata": {},
   "source": [
    "## 1. Read & store distances"
   ]
  },
  {
   "cell_type": "code",
   "execution_count": 2,
   "metadata": {},
   "outputs": [
    {
     "data": {
      "text/html": [
       "<div>\n",
       "<style>\n",
       "    .dataframe thead tr:only-child th {\n",
       "        text-align: right;\n",
       "    }\n",
       "\n",
       "    .dataframe thead th {\n",
       "        text-align: left;\n",
       "    }\n",
       "\n",
       "    .dataframe tbody tr th {\n",
       "        vertical-align: top;\n",
       "    }\n",
       "</style>\n",
       "<table border=\"1\" class=\"dataframe\">\n",
       "  <thead>\n",
       "    <tr style=\"text-align: right;\">\n",
       "      <th></th>\n",
       "      <th>city_number</th>\n",
       "      <th>x</th>\n",
       "      <th>y</th>\n",
       "    </tr>\n",
       "  </thead>\n",
       "  <tbody>\n",
       "    <tr>\n",
       "      <th>0</th>\n",
       "      <td>1</td>\n",
       "      <td>565</td>\n",
       "      <td>575</td>\n",
       "    </tr>\n",
       "    <tr>\n",
       "      <th>1</th>\n",
       "      <td>2</td>\n",
       "      <td>25</td>\n",
       "      <td>185</td>\n",
       "    </tr>\n",
       "    <tr>\n",
       "      <th>2</th>\n",
       "      <td>3</td>\n",
       "      <td>345</td>\n",
       "      <td>750</td>\n",
       "    </tr>\n",
       "    <tr>\n",
       "      <th>3</th>\n",
       "      <td>4</td>\n",
       "      <td>945</td>\n",
       "      <td>685</td>\n",
       "    </tr>\n",
       "    <tr>\n",
       "      <th>4</th>\n",
       "      <td>5</td>\n",
       "      <td>845</td>\n",
       "      <td>655</td>\n",
       "    </tr>\n",
       "  </tbody>\n",
       "</table>\n",
       "</div>"
      ],
      "text/plain": [
       "   city_number    x    y\n",
       "0            1  565  575\n",
       "1            2   25  185\n",
       "2            3  345  750\n",
       "3            4  945  685\n",
       "4            5  845  655"
      ]
     },
     "execution_count": 2,
     "metadata": {},
     "output_type": "execute_result"
    }
   ],
   "source": [
    "# IMPORT DATASET\n",
    "data = pd.read_csv(\"tsp.csv\",header=None)\n",
    "\n",
    "# BUILD DATAFRAME\n",
    "df = pd.DataFrame(data=data)\n",
    "df.columns = ['city_number','x','y']\n",
    "df.head()"
   ]
  },
  {
   "cell_type": "code",
   "execution_count": 3,
   "metadata": {},
   "outputs": [
    {
     "name": "stdout",
     "output_type": "stream",
     "text": [
      "Is this matrix correct ? Let's test on the distance city0-->city1 :\n",
      " - dist[0,1] is 930\n",
      " - and |x1-x0| + |y1-y0| is 930\n"
     ]
    }
   ],
   "source": [
    "# COMPUTE & STORE DISTANCES\n",
    "\n",
    "def fill_dist_matrix():\n",
    "    x_diff = np.array([np.subtract(df['x'],x_i) for x_i in df['x']])\n",
    "    y_diff = np.array([np.subtract(df['y'],y_i) for y_i in df['y']])\n",
    "    return abs(x_diff)+abs(y_diff)\n",
    "\n",
    "dist = fill_dist_matrix()"
   ]
  },
  {
   "cell_type": "code",
   "execution_count": 4,
   "metadata": {},
   "outputs": [
    {
     "name": "stdout",
     "output_type": "stream",
     "text": [
      "Demo of the fitness function\n",
      "With this path :\n",
      " [ 1 10 24 27 38 15  4 16 41 35 25 23 13 29 36 32 30  7  8 47 14 48 20 19\n",
      "  6 46 12 50 33  5 43 44 34 39 17 28  2  0 37 42 22 21 11 18 26 49  3 40\n",
      " 51 31 45  9]\n",
      "We have a fitness of : 37960\n"
     ]
    }
   ],
   "source": [
    "# FITNESS FUNCTION\n",
    "\n",
    "def fitness_test(path):\n",
    "    indices = [(path[i],path[i+1]) for i in range(-1,n-1)]\n",
    "    return np.array([dist[ind] for ind in indices]).sum()\n",
    "\n",
    "n = df.shape[0]\n",
    "path = np.arange(0,n)\n",
    "np.random.shuffle(path)\n",
    "print(\"Demo of the fitness function\\nWith this path :\\n\",path)\n",
    "print(\"We have a fitness of :\",fitness_test(path))"
   ]
  },
  {
   "cell_type": "markdown",
   "metadata": {},
   "source": [
    "## 2. Genetic Algorithm\n",
    "\n",
    "### 2.0 Hyperparameters"
   ]
  },
  {
   "cell_type": "code",
   "execution_count": 135,
   "metadata": {
    "collapsed": true
   },
   "outputs": [],
   "source": [
    "pop_size      = 100\n",
    "mutation_rate = 0.01\n",
    "generations   = 1000"
   ]
  },
  {
   "cell_type": "markdown",
   "metadata": {},
   "source": [
    "### 2.1 Individual Class"
   ]
  },
  {
   "cell_type": "code",
   "execution_count": 10,
   "metadata": {},
   "outputs": [],
   "source": [
    "class Individual:\n",
    "    \n",
    "    def __init__(self):\n",
    "        # random path\n",
    "        self.genes   = np.arange(0,n)\n",
    "        np.random.shuffle(self.genes)\n",
    "        # fitness\n",
    "        self.fitness = 0\n",
    "        \n",
    "    def update_fitness(self):\n",
    "        # recompute total length\n",
    "        indices      =  [(self.genes[i],self.genes[i+1]) for i in range(-1,n-1)]\n",
    "        self.fitness = np.array([dist[ind] for ind in indices]).sum()\n",
    "        \n",
    "    def mutate(self):\n",
    "        for i in range(n):\n",
    "            if rd.random() < mutation_rate:\n",
    "                #sometimes swap 2 cities\n",
    "                ind1            , ind2             = rd.randint(0,n-1) , rd.randint(0,n-1)\n",
    "                self.genes[ind1], self.genes[ind2] = self.genes[ind2]  , self.genes[ind1] \n",
    "    \n",
    "    def crossover(self, mate):\n",
    "        # 2 points crossover\n",
    "        \n",
    "        # first we take 2 points\n",
    "        ind1, ind2 = rd.randint(0,n-1) , rd.randint(0,n-1)\n",
    "        if ind2<ind1 :\n",
    "            ind1, ind2 = ind2, ind1\n",
    "            \n",
    "        # here is our child\n",
    "        child = Individual()\n",
    "        \n",
    "        # we copy-paste the inbetween indices part from mate.genes to child.genes\n",
    "        child.genes[:ind2-ind1+1] = mate.genes[ind1:ind2+1].copy()\n",
    "        \n",
    "        # we complete with the missing genes\n",
    "        current_index = ind2-ind1+1\n",
    "        for gene in self.genes:\n",
    "            if gene not in child.genes[:ind2-ind1+1]:\n",
    "                child.genes[current_index] = gene\n",
    "                current_index += 1\n",
    "        if current_index != n :\n",
    "            print(\"wait whut ?\")\n",
    "        \n",
    "        # is is a good child ?\n",
    "        child.update_fitness()\n",
    "        if child.fitness < self.fitness :\n",
    "            #print(\"good crossover!\")\n",
    "            self.genes   = child.genes[:]\n",
    "            self.fitness = child.fitness"
   ]
  },
  {
   "cell_type": "markdown",
   "metadata": {},
   "source": [
    "### 2.2 Population Class"
   ]
  },
  {
   "cell_type": "code",
   "execution_count": 55,
   "metadata": {},
   "outputs": [],
   "source": [
    "class Population:\n",
    "    \n",
    "    def __init__(self):\n",
    "        # create pop_size individuals\n",
    "        self.population = [Individual() for _ in range(pop_size)]\n",
    "        self.best_path = self.population[0].genes.copy()\n",
    "        self.best_fitness = np.inf\n",
    "        \n",
    "    def update_all_fitness(self):\n",
    "        # update fitness of each individual\n",
    "        for i in range(pop_size):\n",
    "            self.population[i].update_fitness()\n",
    "            \n",
    "    def mutate_all(self):\n",
    "        # try a mutation for each indivual\n",
    "        # and keep the mutant if it brings an improvment\n",
    "        for i in range(pop_size):\n",
    "            mutant = Individual()\n",
    "            mutant.genes = self.population[i].genes.copy()\n",
    "            mutant.mutate()\n",
    "            mutant.update_fitness()\n",
    "            if mutant.fitness < self.population[i].fitness :\n",
    "                #print(\"good mutation!\")\n",
    "                self.population[i].genes   = mutant.genes.copy()\n",
    "                self.population[i].fitness = mutant.fitness\n",
    "                \n",
    "    def crossover_all(self):\n",
    "        for i in range(pop_size):\n",
    "            # 2-individuals turnament\n",
    "            ind1, ind2 = rd.randint(0,n-1) , rd.randint(0,n-1)\n",
    "            # try a crossover for each indivual\n",
    "            # and keep the child if it brings an improvment\n",
    "            if self.population[ind1].fitness < self.population[ind2].fitness:\n",
    "                self.population[i].crossover(self.population[ind1])\n",
    "            else :\n",
    "                self.population[i].crossover(self.population[ind2])\n",
    "            \n",
    "            \n",
    "    def get_best(self):\n",
    "        # find best individual in the population\n",
    "        self.best_fitness = self.population[0].fitness\n",
    "        for i in range(pop_size):\n",
    "            tmp = self.population[i].fitness\n",
    "            if tmp < self.best_fitness :\n",
    "                self.best_fitness = tmp\n",
    "                self.best_path = self.population[i].genes[:]"
   ]
  },
  {
   "cell_type": "markdown",
   "metadata": {},
   "source": [
    "### 2.3 Evolution !"
   ]
  },
  {
   "cell_type": "code",
   "execution_count": 136,
   "metadata": {},
   "outputs": [],
   "source": [
    "def solve():\n",
    "    \n",
    "    # INIT POPULATION\n",
    "    pop= Population()\n",
    "    pop.update_all_fitness()\n",
    "\n",
    "    # STATISTICS\n",
    "    best_fitnesses = []\n",
    "    \n",
    "    # EVOLVE\n",
    "    for generation in range(generations):\n",
    "        pop.mutate_all()\n",
    "        pop.update_all_fitness()\n",
    "        pop.crossover_all()\n",
    "        pop.update_all_fitness()\n",
    "        pop.get_best()\n",
    "        \n",
    "        if (generation % 10 == 0):\n",
    "            best_fitnesses.append(pop.best_fitness)\n",
    "    \n",
    "    return pop.best_path, pop.best_fitness, best_fitnesses\n"
   ]
  },
  {
   "cell_type": "code",
   "execution_count": 137,
   "metadata": {},
   "outputs": [
    {
     "name": "stdout",
     "output_type": "stream",
     "text": [
      "Wall time: 43.6 s\n"
     ]
    }
   ],
   "source": [
    "%%time\n",
    "best_path, best_fitness, best_fitnesses = solve()"
   ]
  },
  {
   "cell_type": "code",
   "execution_count": 138,
   "metadata": {},
   "outputs": [
    {
     "data": {
      "image/png": "[encoded data removed]",
      "text/plain": [
       "<matplotlib.figure.Figure at 0x16ba0475198>"
      ]
     },
     "metadata": {
      "needs_background": "light"
     },
     "output_type": "display_data"
    },
    {
     "data": {
      "image/png": "[encoded data removed]",
      "text/plain": [
       "<matplotlib.figure.Figure at 0x16ba09a22b0>"
      ]
     },
     "metadata": {
      "needs_background": "light"
     },
     "output_type": "display_data"
    },
    {
     "name": "stdout",
     "output_type": "stream",
     "text": [
      "Shortest path length : 10690\n"
     ]
    }
   ],
   "source": [
    "def results(best_path, best_fitness, best_fitnesses):\n",
    "    plt.plot(10*np.linspace(0,len(best_fitnesses), int(generations/10)), best_fitnesses,color='blue',linestyle='--')\n",
    "    plt.hlines(y=9991,xmin=0,xmax=generations,color='red')\n",
    "    plt.hlines(y=8700,xmin=0,xmax=generations,color='green')\n",
    "    plt.xlabel(\"Generations\")\n",
    "    plt.ylabel(\"Shortest path length\")\n",
    "    plt.legend([\"my performances\",\"group best solution\",\"optima\"])\n",
    "    plt.grid(True)\n",
    "    plt.title(\"Perfomances\")\n",
    "    plt.show()\n",
    "    \n",
    "    [X,Y] = list(np.array(df)[best_path][:,1:].T)\n",
    "    plt.step(np.concatenate((X,[X[0]])),np.concatenate((Y,[Y[0]])),where='post')\n",
    "    plt.plot(X,Y,'s',marker='+',color='black')\n",
    "    plt.title(\"Best path found\")\n",
    "    plt.show()\n",
    "    \n",
    "    print(\"Shortest path length :\",best_fitness)\n",
    "\n",
    "results(best_path, best_fitness, best_fitnesses)"
   ]
  }
 ],
 "metadata": {
  "kernelspec": {
   "display_name": "Python 3",
   "language": "python",
   "name": "python3"
  },
  "language_info": {
   "codemirror_mode": {
    "name": "ipython",
    "version": 3
   },
   "file_extension": ".py",
   "mimetype": "text/x-python",
   "name": "python",
   "nbconvert_exporter": "python",
   "pygments_lexer": "ipython3",
   "version": "3.6.2"
  }
 },
 "nbformat": 4,
 "nbformat_minor": 2
}
